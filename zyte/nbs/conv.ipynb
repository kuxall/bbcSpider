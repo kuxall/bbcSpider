{
 "cells": [
  {
   "cell_type": "code",
   "execution_count": 6,
   "metadata": {},
   "outputs": [],
   "source": [
    "# !pip install pandas"
   ]
  },
  {
   "cell_type": "code",
   "execution_count": 7,
   "metadata": {},
   "outputs": [],
   "source": [
    "import pandas as pd\n",
    "\n",
    "# Load the JSON data into a pandas DataFrame\n",
    "with open('/home/kushal/Downloads/BBC/zyte/rawdata/bbcInformation.json', 'r') as json_file:\n",
    "    data = pd.read_json(json_file)\n",
    "\n",
    "# Write the DataFrame to a CSV file\n",
    "# data.to_csv('bbchaita.csv', index=False)\n"
   ]
  },
  {
   "cell_type": "code",
   "execution_count": 8,
   "metadata": {},
   "outputs": [],
   "source": [
    "import pandas as pd\n",
    "\n",
    "# df = pd.read_csv('/home/kushal/Downloads/BBC/zyte/dumpdata/BBC.csv')"
   ]
  },
  {
   "cell_type": "code",
   "execution_count": 9,
   "metadata": {},
   "outputs": [],
   "source": [
    "# df[['description']].to_csv('/home/kushal/Downloads/BBC/zyte/dumpdata/bbcdescription.csv', index = False)"
   ]
  },
  {
   "cell_type": "code",
   "execution_count": null,
   "metadata": {},
   "outputs": [],
   "source": []
  }
 ],
 "metadata": {
  "kernelspec": {
   "display_name": ".venv",
   "language": "python",
   "name": "python3"
  },
  "language_info": {
   "codemirror_mode": {
    "name": "ipython",
    "version": 3
   },
   "file_extension": ".py",
   "mimetype": "text/x-python",
   "name": "python",
   "nbconvert_exporter": "python",
   "pygments_lexer": "ipython3",
   "version": "3.10.6"
  },
  "orig_nbformat": 4,
  "vscode": {
   "interpreter": {
    "hash": "0d3e0f35485551c8a5d7eb82fdc45d37bf6cc8ce6112e9d7ccc44b35428a4359"
   }
  }
 },
 "nbformat": 4,
 "nbformat_minor": 2
}
