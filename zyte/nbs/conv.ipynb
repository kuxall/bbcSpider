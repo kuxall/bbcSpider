{
 "cells": [
  {
   "cell_type": "code",
   "execution_count": 6,
   "metadata": {},
   "outputs": [],
   "source": [
    "# !pip install pandas"
   ]
  },
  {
   "cell_type": "code",
   "execution_count": 7,
   "metadata": {},
   "outputs": [],
   "source": [
    "import pandas as pd\n",
    "\n",
    "# Load the JSON data into a pandas DataFrame\n",
    "with open('/home/kushal/Downloads/BBC/zyte/rawdata/bbcInformation.json', 'r') as json_file:\n",
    "    data = pd.read_json(json_file)\n",
    "\n",
    "# Write the DataFrame to a CSV file\n",
    "# data.to_csv('bbchaita.csv', index=False)\n"
   ]
  },
  {
   "cell_type": "code",
   "execution_count": 8,
   "metadata": {},
   "outputs": [],
   "source": [
    "import pandas as pd\n",
    "\n",
    "# df = pd.read_csv('/home/kushal/Downloads/BBC/zyte/dumpdata/BBC.csv')"
   ]
  },
  {
   "cell_type": "code",
   "execution_count": 9,
   "metadata": {},
   "outputs": [],
   "source": [
    "# df[['description']].to_csv('/home/kushal/Downloads/BBC/zyte/dumpdata/bbcdescription.csv', index = False)"
   ]
  },
  {
   "cell_type": "code",
   "execution_count": 12,
   "metadata": {},
   "outputs": [],
   "source": [
    "import pandas as pd\n",
    "df = pd.read_csv(\"/home/kushal/Downloads/BBC/news/informations.csv\")"
   ]
  },
  {
   "cell_type": "code",
   "execution_count": 20,
   "metadata": {},
   "outputs": [
    {
     "data": {
      "text/html": [
       "<div>\n",
       "<style scoped>\n",
       "    .dataframe tbody tr th:only-of-type {\n",
       "        vertical-align: middle;\n",
       "    }\n",
       "\n",
       "    .dataframe tbody tr th {\n",
       "        vertical-align: top;\n",
       "    }\n",
       "\n",
       "    .dataframe thead th {\n",
       "        text-align: right;\n",
       "    }\n",
       "</style>\n",
       "<table border=\"1\" class=\"dataframe\">\n",
       "  <thead>\n",
       "    <tr style=\"text-align: right;\">\n",
       "      <th></th>\n",
       "      <th>link</th>\n",
       "      <th>summaries</th>\n",
       "      <th>text</th>\n",
       "    </tr>\n",
       "  </thead>\n",
       "  <tbody>\n",
       "    <tr>\n",
       "      <th>0</th>\n",
       "      <td>https://www.bbc.com/nepali/articles/cq5ggv295gvo</td>\n",
       "      <td>राष्ट्रपतिमा राष्ट्रिय सहमति हुनुपर्ने नेकपा म...</td>\n",
       "      <td>राष्ट्रिय सहमतिको निम्ति एमाले तयार नभए सरकार ...</td>\n",
       "    </tr>\n",
       "    <tr>\n",
       "      <th>1</th>\n",
       "      <td>https://www.bbc.com/nepali/news-64566814</td>\n",
       "      <td>पोखरा अन्तर्राष्ट्रिय विमानस्थलमा माघ १ गते अव...</td>\n",
       "      <td>दुर्घटनामा परेको विमानको फाइल तस्बिर एउटा विज्...</td>\n",
       "    </tr>\n",
       "    <tr>\n",
       "      <th>2</th>\n",
       "      <td>https://www.bbc.com/nepali/news-62165019</td>\n",
       "      <td>नेपालमा प्रत्येक वर्ष आगलागीका धेरै घटना हुने ...</td>\n",
       "      <td>आगलागीबाट बर्सेनि दर्जनौँ मानिस हताहत हुने गरे...</td>\n",
       "    </tr>\n",
       "    <tr>\n",
       "      <th>3</th>\n",
       "      <td>https://www.bbc.com/nepali/articles/cldld4z5497o</td>\n",
       "      <td>सरोगेसी भनिने भाडाको कोखबाट बच्चालाई जन्म दिने...</td>\n",
       "      <td>शन्नाको फोनमा बत्ती बल्छ। त्यो फोन क्याथरिनले ...</td>\n",
       "    </tr>\n",
       "    <tr>\n",
       "      <th>4</th>\n",
       "      <td>https://www.bbc.com/nepali/news-64423359</td>\n",
       "      <td>सबैभन्दा खतरनाक प्राकृतिक विपद्‌मध्ये एक- चट्य...</td>\n",
       "      <td>चट्याङ खतरनाक प्राकृतिक विपद हो चट्याङ एकदमै श...</td>\n",
       "    </tr>\n",
       "  </tbody>\n",
       "</table>\n",
       "</div>"
      ],
      "text/plain": [
       "                                               link  \\\n",
       "0  https://www.bbc.com/nepali/articles/cq5ggv295gvo   \n",
       "1          https://www.bbc.com/nepali/news-64566814   \n",
       "2          https://www.bbc.com/nepali/news-62165019   \n",
       "3  https://www.bbc.com/nepali/articles/cldld4z5497o   \n",
       "4          https://www.bbc.com/nepali/news-64423359   \n",
       "\n",
       "                                           summaries  \\\n",
       "0  राष्ट्रपतिमा राष्ट्रिय सहमति हुनुपर्ने नेकपा म...   \n",
       "1  पोखरा अन्तर्राष्ट्रिय विमानस्थलमा माघ १ गते अव...   \n",
       "2  नेपालमा प्रत्येक वर्ष आगलागीका धेरै घटना हुने ...   \n",
       "3  सरोगेसी भनिने भाडाको कोखबाट बच्चालाई जन्म दिने...   \n",
       "4  सबैभन्दा खतरनाक प्राकृतिक विपद्‌मध्ये एक- चट्य...   \n",
       "\n",
       "                                                text  \n",
       "0  राष्ट्रिय सहमतिको निम्ति एमाले तयार नभए सरकार ...  \n",
       "1  दुर्घटनामा परेको विमानको फाइल तस्बिर एउटा विज्...  \n",
       "2  आगलागीबाट बर्सेनि दर्जनौँ मानिस हताहत हुने गरे...  \n",
       "3  शन्नाको फोनमा बत्ती बल्छ। त्यो फोन क्याथरिनले ...  \n",
       "4  चट्याङ खतरनाक प्राकृतिक विपद हो चट्याङ एकदमै श...  "
      ]
     },
     "execution_count": 20,
     "metadata": {},
     "output_type": "execute_result"
    }
   ],
   "source": [
    "df.head()"
   ]
  },
  {
   "cell_type": "code",
   "execution_count": 21,
   "metadata": {},
   "outputs": [
    {
     "data": {
      "text/plain": [
       "0     राष्ट्रिय सहमतिको निम्ति एमाले तयार नभए सरकार ...\n",
       "1     दुर्घटनामा परेको विमानको फाइल तस्बिर एउटा विज्...\n",
       "2     आगलागीबाट बर्सेनि दर्जनौँ मानिस हताहत हुने गरे...\n",
       "3     शन्नाको फोनमा बत्ती बल्छ। त्यो फोन क्याथरिनले ...\n",
       "4     चट्याङ खतरनाक प्राकृतिक विपद हो चट्याङ एकदमै श...\n",
       "                            ...                        \n",
       "79    ती बालिकालाई जीवितै उद्धार गरिएको दृश्य र समाच...\n",
       "80    विज्ञहरूले केही वस्तुहरू के कामका लागि प्रयोग ...\n",
       "81    म यसलाई ‘पत्रकारिताकै एक अभ्यासको रूप हो’ भनेर...\n",
       "82    त्यसमा चासो भएका कैयौँ  मानिसहरूले तारा झरेको ...\n",
       "83    चट्याङ खतरनाक प्राकृतिक विपद हो चट्याङ एकदमै श...\n",
       "Name: text, Length: 84, dtype: object"
      ]
     },
     "execution_count": 21,
     "metadata": {},
     "output_type": "execute_result"
    }
   ],
   "source": [
    "df['text']"
   ]
  },
  {
   "cell_type": "code",
   "execution_count": 15,
   "metadata": {},
   "outputs": [],
   "source": [
    "df['text'] = df['text'].str.replace(',', ' ')\n"
   ]
  },
  {
   "cell_type": "code",
   "execution_count": 18,
   "metadata": {},
   "outputs": [
    {
     "data": {
      "text/html": [
       "<div>\n",
       "<style scoped>\n",
       "    .dataframe tbody tr th:only-of-type {\n",
       "        vertical-align: middle;\n",
       "    }\n",
       "\n",
       "    .dataframe tbody tr th {\n",
       "        vertical-align: top;\n",
       "    }\n",
       "\n",
       "    .dataframe thead th {\n",
       "        text-align: right;\n",
       "    }\n",
       "</style>\n",
       "<table border=\"1\" class=\"dataframe\">\n",
       "  <thead>\n",
       "    <tr style=\"text-align: right;\">\n",
       "      <th></th>\n",
       "      <th>link</th>\n",
       "      <th>summaries</th>\n",
       "      <th>text</th>\n",
       "    </tr>\n",
       "  </thead>\n",
       "  <tbody>\n",
       "    <tr>\n",
       "      <th>0</th>\n",
       "      <td>https://www.bbc.com/nepali/articles/cq5ggv295gvo</td>\n",
       "      <td>राष्ट्रपतिमा राष्ट्रिय सहमति हुनुपर्ने नेकपा म...</td>\n",
       "      <td>राष्ट्रिय सहमतिको निम्ति एमाले तयार नभए सरकार ...</td>\n",
       "    </tr>\n",
       "    <tr>\n",
       "      <th>1</th>\n",
       "      <td>https://www.bbc.com/nepali/news-64566814</td>\n",
       "      <td>पोखरा अन्तर्राष्ट्रिय विमानस्थलमा माघ १ गते अव...</td>\n",
       "      <td>दुर्घटनामा परेको विमानको फाइल तस्बिर एउटा विज्...</td>\n",
       "    </tr>\n",
       "    <tr>\n",
       "      <th>2</th>\n",
       "      <td>https://www.bbc.com/nepali/news-62165019</td>\n",
       "      <td>नेपालमा प्रत्येक वर्ष आगलागीका धेरै घटना हुने ...</td>\n",
       "      <td>आगलागीबाट बर्सेनि दर्जनौँ मानिस हताहत हुने गरे...</td>\n",
       "    </tr>\n",
       "    <tr>\n",
       "      <th>3</th>\n",
       "      <td>https://www.bbc.com/nepali/articles/cldld4z5497o</td>\n",
       "      <td>सरोगेसी भनिने भाडाको कोखबाट बच्चालाई जन्म दिने...</td>\n",
       "      <td>शन्नाको फोनमा बत्ती बल्छ। त्यो फोन क्याथरिनले ...</td>\n",
       "    </tr>\n",
       "    <tr>\n",
       "      <th>4</th>\n",
       "      <td>https://www.bbc.com/nepali/news-64423359</td>\n",
       "      <td>सबैभन्दा खतरनाक प्राकृतिक विपद्‌मध्ये एक- चट्य...</td>\n",
       "      <td>चट्याङ खतरनाक प्राकृतिक विपद हो चट्याङ एकदमै श...</td>\n",
       "    </tr>\n",
       "    <tr>\n",
       "      <th>...</th>\n",
       "      <td>...</td>\n",
       "      <td>...</td>\n",
       "      <td>...</td>\n",
       "    </tr>\n",
       "    <tr>\n",
       "      <th>79</th>\n",
       "      <td>https://www.bbc.com/nepali/news-64741506</td>\n",
       "      <td>सिरियामा भूकम्पले भत्किएको एउटा घरको भग्नावशेष...</td>\n",
       "      <td>ती बालिकालाई जीवितै उद्धार गरिएको दृश्य र समाच...</td>\n",
       "    </tr>\n",
       "    <tr>\n",
       "      <th>80</th>\n",
       "      <td>https://www.bbc.com/nepali/news-64701589</td>\n",
       "      <td>क्याम्बोडियास्थित एङ्कोरका प्राचीन शासकका राजक...</td>\n",
       "      <td>विज्ञहरूले केही वस्तुहरू के कामका लागि प्रयोग ...</td>\n",
       "    </tr>\n",
       "    <tr>\n",
       "      <th>81</th>\n",
       "      <td>https://www.bbc.com/nepali/articles/cyjyyew4zewo</td>\n",
       "      <td>स्वीकारोक्ति: म सधैँ  ढिलो भैरहने मान्छे हुँ। ...</td>\n",
       "      <td>म यसलाई ‘पत्रकारिताकै एक अभ्यासको रूप हो’ भनेर...</td>\n",
       "    </tr>\n",
       "    <tr>\n",
       "      <th>82</th>\n",
       "      <td>https://www.bbc.com/nepali/news-64717347</td>\n",
       "      <td>एउटा क्षुद्रग्रह उत्तरी फ्रान्स र दक्षिणी इङ्ग...</td>\n",
       "      <td>त्यसमा चासो भएका कैयौँ  मानिसहरूले तारा झरेको ...</td>\n",
       "    </tr>\n",
       "    <tr>\n",
       "      <th>83</th>\n",
       "      <td>https://www.bbc.com/nepali/news-64423359</td>\n",
       "      <td>सबैभन्दा खतरनाक प्राकृतिक विपद्‌मध्ये एक- चट्य...</td>\n",
       "      <td>चट्याङ खतरनाक प्राकृतिक विपद हो चट्याङ एकदमै श...</td>\n",
       "    </tr>\n",
       "  </tbody>\n",
       "</table>\n",
       "<p>84 rows × 3 columns</p>\n",
       "</div>"
      ],
      "text/plain": [
       "                                                link  \\\n",
       "0   https://www.bbc.com/nepali/articles/cq5ggv295gvo   \n",
       "1           https://www.bbc.com/nepali/news-64566814   \n",
       "2           https://www.bbc.com/nepali/news-62165019   \n",
       "3   https://www.bbc.com/nepali/articles/cldld4z5497o   \n",
       "4           https://www.bbc.com/nepali/news-64423359   \n",
       "..                                               ...   \n",
       "79          https://www.bbc.com/nepali/news-64741506   \n",
       "80          https://www.bbc.com/nepali/news-64701589   \n",
       "81  https://www.bbc.com/nepali/articles/cyjyyew4zewo   \n",
       "82          https://www.bbc.com/nepali/news-64717347   \n",
       "83          https://www.bbc.com/nepali/news-64423359   \n",
       "\n",
       "                                            summaries  \\\n",
       "0   राष्ट्रपतिमा राष्ट्रिय सहमति हुनुपर्ने नेकपा म...   \n",
       "1   पोखरा अन्तर्राष्ट्रिय विमानस्थलमा माघ १ गते अव...   \n",
       "2   नेपालमा प्रत्येक वर्ष आगलागीका धेरै घटना हुने ...   \n",
       "3   सरोगेसी भनिने भाडाको कोखबाट बच्चालाई जन्म दिने...   \n",
       "4   सबैभन्दा खतरनाक प्राकृतिक विपद्‌मध्ये एक- चट्य...   \n",
       "..                                                ...   \n",
       "79  सिरियामा भूकम्पले भत्किएको एउटा घरको भग्नावशेष...   \n",
       "80  क्याम्बोडियास्थित एङ्कोरका प्राचीन शासकका राजक...   \n",
       "81  स्वीकारोक्ति: म सधैँ  ढिलो भैरहने मान्छे हुँ। ...   \n",
       "82  एउटा क्षुद्रग्रह उत्तरी फ्रान्स र दक्षिणी इङ्ग...   \n",
       "83  सबैभन्दा खतरनाक प्राकृतिक विपद्‌मध्ये एक- चट्य...   \n",
       "\n",
       "                                                 text  \n",
       "0   राष्ट्रिय सहमतिको निम्ति एमाले तयार नभए सरकार ...  \n",
       "1   दुर्घटनामा परेको विमानको फाइल तस्बिर एउटा विज्...  \n",
       "2   आगलागीबाट बर्सेनि दर्जनौँ मानिस हताहत हुने गरे...  \n",
       "3   शन्नाको फोनमा बत्ती बल्छ। त्यो फोन क्याथरिनले ...  \n",
       "4   चट्याङ खतरनाक प्राकृतिक विपद हो चट्याङ एकदमै श...  \n",
       "..                                                ...  \n",
       "79  ती बालिकालाई जीवितै उद्धार गरिएको दृश्य र समाच...  \n",
       "80  विज्ञहरूले केही वस्तुहरू के कामका लागि प्रयोग ...  \n",
       "81  म यसलाई ‘पत्रकारिताकै एक अभ्यासको रूप हो’ भनेर...  \n",
       "82  त्यसमा चासो भएका कैयौँ  मानिसहरूले तारा झरेको ...  \n",
       "83  चट्याङ खतरनाक प्राकृतिक विपद हो चट्याङ एकदमै श...  \n",
       "\n",
       "[84 rows x 3 columns]"
      ]
     },
     "execution_count": 18,
     "metadata": {},
     "output_type": "execute_result"
    }
   ],
   "source": [
    "df"
   ]
  },
  {
   "cell_type": "code",
   "execution_count": 22,
   "metadata": {},
   "outputs": [],
   "source": [
    "df.to_csv('/home/kushal/Downloads/BBC/news/informations.csv')"
   ]
  },
  {
   "cell_type": "code",
   "execution_count": null,
   "metadata": {},
   "outputs": [],
   "source": []
  }
 ],
 "metadata": {
  "kernelspec": {
   "display_name": ".venv",
   "language": "python",
   "name": "python3"
  },
  "language_info": {
   "codemirror_mode": {
    "name": "ipython",
    "version": 3
   },
   "file_extension": ".py",
   "mimetype": "text/x-python",
   "name": "python",
   "nbconvert_exporter": "python",
   "pygments_lexer": "ipython3",
   "version": "3.10.6"
  },
  "orig_nbformat": 4,
  "vscode": {
   "interpreter": {
    "hash": "0d3e0f35485551c8a5d7eb82fdc45d37bf6cc8ce6112e9d7ccc44b35428a4359"
   }
  }
 },
 "nbformat": 4,
 "nbformat_minor": 2
}
