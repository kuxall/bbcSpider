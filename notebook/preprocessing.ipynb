{
 "cells": [
  {
   "cell_type": "code",
   "execution_count": 1,
   "metadata": {},
   "outputs": [],
   "source": [
    "import pandas as pd"
   ]
  },
  {
   "cell_type": "code",
   "execution_count": 4,
   "metadata": {},
   "outputs": [],
   "source": [
    "df = pd.read_csv('/home/kushal/Downloads/BBC/cleaned_data/DataForOmdenaBBC(v2).csv')"
   ]
  },
  {
   "cell_type": "code",
   "execution_count": 6,
   "metadata": {},
   "outputs": [],
   "source": [
    "df['summaries'] = df['summaries'].replace(r'\\d+', '', regex=True)\n",
    "df['summaries'] = df['summaries'].replace(r'[a-zA-Z0-9]+', '', regex=True)\n"
   ]
  },
  {
   "cell_type": "code",
   "execution_count": 7,
   "metadata": {},
   "outputs": [
    {
     "data": {
      "text/html": [
       "<div>\n",
       "<style scoped>\n",
       "    .dataframe tbody tr th:only-of-type {\n",
       "        vertical-align: middle;\n",
       "    }\n",
       "\n",
       "    .dataframe tbody tr th {\n",
       "        vertical-align: top;\n",
       "    }\n",
       "\n",
       "    .dataframe thead th {\n",
       "        text-align: right;\n",
       "    }\n",
       "</style>\n",
       "<table border=\"1\" class=\"dataframe\">\n",
       "  <thead>\n",
       "    <tr style=\"text-align: right;\">\n",
       "      <th></th>\n",
       "      <th>summaries</th>\n",
       "    </tr>\n",
       "  </thead>\n",
       "  <tbody>\n",
       "    <tr>\n",
       "      <th>0</th>\n",
       "      <td>मलाई सन्चै छ  हजुरलाई कस्तो छ?</td>\n",
       "    </tr>\n",
       "    <tr>\n",
       "      <th>1</th>\n",
       "      <td>मलाई सन्चै छ  हजुरलाई कस्तो छ?</td>\n",
       "    </tr>\n",
       "    <tr>\n",
       "      <th>2</th>\n",
       "      <td>एक युवती अस्पतालको शय्यामा पल्टिएकी छन्। उनको ...</td>\n",
       "    </tr>\n",
       "    <tr>\n",
       "      <th>3</th>\n",
       "      <td>मोबाइल फोनबाट पहिलोपटक मानिसहरूबीच संवाद भएको ...</td>\n",
       "    </tr>\n",
       "    <tr>\n",
       "      <th>4</th>\n",
       "      <td>चीनले आफ्नो सैन्य अभ्यासको दोस्रो दिन आइतवार प...</td>\n",
       "    </tr>\n",
       "    <tr>\n",
       "      <th>...</th>\n",
       "      <td>...</td>\n",
       "    </tr>\n",
       "    <tr>\n",
       "      <th>714</th>\n",
       "      <td>जन्मका आधारमा नागरिकता पाएकाहरूका सन्तानले वंश...</td>\n",
       "    </tr>\n",
       "    <tr>\n",
       "      <th>715</th>\n",
       "      <td>केही दशकअघिसम्म सिंहदरबार वैद्यखानाबाट उत्पादन...</td>\n",
       "    </tr>\n",
       "    <tr>\n",
       "      <th>716</th>\n",
       "      <td>बुधबार राजधानी दिल्लीको प्रगति मैदानमा ‘भारत म...</td>\n",
       "    </tr>\n",
       "    <tr>\n",
       "      <th>717</th>\n",
       "      <td>गुगलको भूकम्पसम्बन्धी चेतावनी प्रणालीले गत फेब...</td>\n",
       "    </tr>\n",
       "    <tr>\n",
       "      <th>718</th>\n",
       "      <td>नेपाल राष्ट्र ब्याङ्कले डिजिटल करेन्सी प्रयोगम...</td>\n",
       "    </tr>\n",
       "  </tbody>\n",
       "</table>\n",
       "<p>719 rows × 1 columns</p>\n",
       "</div>"
      ],
      "text/plain": [
       "                                             summaries\n",
       "0                       मलाई सन्चै छ  हजुरलाई कस्तो छ?\n",
       "1                       मलाई सन्चै छ  हजुरलाई कस्तो छ?\n",
       "2    एक युवती अस्पतालको शय्यामा पल्टिएकी छन्। उनको ...\n",
       "3    मोबाइल फोनबाट पहिलोपटक मानिसहरूबीच संवाद भएको ...\n",
       "4    चीनले आफ्नो सैन्य अभ्यासको दोस्रो दिन आइतवार प...\n",
       "..                                                 ...\n",
       "714  जन्मका आधारमा नागरिकता पाएकाहरूका सन्तानले वंश...\n",
       "715  केही दशकअघिसम्म सिंहदरबार वैद्यखानाबाट उत्पादन...\n",
       "716  बुधबार राजधानी दिल्लीको प्रगति मैदानमा ‘भारत म...\n",
       "717  गुगलको भूकम्पसम्बन्धी चेतावनी प्रणालीले गत फेब...\n",
       "718  नेपाल राष्ट्र ब्याङ्कले डिजिटल करेन्सी प्रयोगम...\n",
       "\n",
       "[719 rows x 1 columns]"
      ]
     },
     "execution_count": 7,
     "metadata": {},
     "output_type": "execute_result"
    }
   ],
   "source": [
    "df"
   ]
  },
  {
   "cell_type": "code",
   "execution_count": 12,
   "metadata": {},
   "outputs": [],
   "source": [
    "df.to_csv('../cleaned_data/DataForOmdenaBBC(v3).csv', index=False)"
   ]
  },
  {
   "cell_type": "code",
   "execution_count": null,
   "metadata": {},
   "outputs": [],
   "source": []
  }
 ],
 "metadata": {
  "kernelspec": {
   "display_name": ".venv",
   "language": "python",
   "name": "python3"
  },
  "language_info": {
   "codemirror_mode": {
    "name": "ipython",
    "version": 3
   },
   "file_extension": ".py",
   "mimetype": "text/x-python",
   "name": "python",
   "nbconvert_exporter": "python",
   "pygments_lexer": "ipython3",
   "version": "3.10.6"
  },
  "orig_nbformat": 4
 },
 "nbformat": 4,
 "nbformat_minor": 2
}
