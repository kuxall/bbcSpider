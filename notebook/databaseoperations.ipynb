{
 "cells": [
  {
   "cell_type": "code",
   "execution_count": 1,
   "metadata": {},
   "outputs": [],
   "source": [
    "import pandas as pd\n",
    "import sqlite3\n",
    "\n",
    "conn = sqlite3.connect('/home/kushal/Downloads/BBC/rawOMDENAdata/rising_nepal_daily_all_news.db')\n",
    "\n",
    "query = \"SELECT content FROM 'my_table'\"\n",
    "\n",
    "df = pd.read_sql_query(query, conn)\n",
    "\n",
    "conn.close()"
   ]
  },
  {
   "cell_type": "code",
   "execution_count": 3,
   "metadata": {},
   "outputs": [],
   "source": [
    "df.to_csv('The Rising Nepal News.csv', index=False, encoding='utf-8')"
   ]
  },
  {
   "cell_type": "code",
   "execution_count": 7,
   "metadata": {},
   "outputs": [],
   "source": [
    "df.to_excel('The Rising Nepal News.xlsx')\n"
   ]
  },
  {
   "cell_type": "code",
   "execution_count": 9,
   "metadata": {},
   "outputs": [],
   "source": [
    "\n",
    "# Replace 'input.csv' with the name of your CSV file and 'output.txt' with the desired output text file.\n",
    "import csv\n",
    "import sys\n",
    "\n",
    "# Set the field size limit to a larger value (e.g., 10 MB).\n",
    "csv.field_size_limit(sys.maxsize)\n",
    "\n",
    "# Replace 'input.csv' with the name of your CSV file and 'output.txt' with the desired output text file.\n",
    "input_file = '/home/kushal/Downloads/BBC/notebook/The Rising Nepal News.csv'\n",
    "output_file = 'output.txt'\n",
    "\n",
    "with open(input_file, 'r') as csv_file:\n",
    "    csv_reader = csv.reader(csv_file)\n",
    "    with open(output_file, 'w') as txt_file:\n",
    "        for row in csv_reader:\n",
    "            # Change the separator if your CSV file uses a different delimiter (e.g., '\\t' for tab-separated).\n",
    "            txt_file.write(','.join(row) + '\\n')\n"
   ]
  },
  {
   "cell_type": "code",
   "execution_count": null,
   "metadata": {},
   "outputs": [],
   "source": []
  }
 ],
 "metadata": {
  "kernelspec": {
   "display_name": ".venv",
   "language": "python",
   "name": "python3"
  },
  "language_info": {
   "codemirror_mode": {
    "name": "ipython",
    "version": 3
   },
   "file_extension": ".py",
   "mimetype": "text/x-python",
   "name": "python",
   "nbconvert_exporter": "python",
   "pygments_lexer": "ipython3",
   "version": "3.10.6"
  },
  "orig_nbformat": 4
 },
 "nbformat": 4,
 "nbformat_minor": 2
}
