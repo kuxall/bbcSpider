{
 "cells": [
  {
   "cell_type": "code",
   "execution_count": 1,
   "metadata": {},
   "outputs": [
    {
     "name": "stdout",
     "output_type": "stream",
     "text": [
      "Duplicate rows:\n",
      "Empty DataFrame\n",
      "Columns: [url, content, title, website_name, category, language, authors, published_date]\n",
      "Index: []\n"
     ]
    }
   ],
   "source": [
    "import pandas as pd\n",
    "\n",
    "# Load the CSV files into DataFrames\n",
    "df1 = pd.read_csv(\"BBC.csv\")\n",
    "df2 = pd.read_csv(\"day10.csv\")\n",
    "\n",
    "# Merge the DataFrames (if applicable, you can specify the merging columns)\n",
    "merged_df = pd.concat([df1, df2], ignore_index=True)\n",
    "\n",
    "# Check for duplicates based on entire rows\n",
    "duplicate_rows = merged_df[merged_df.duplicated()]\n",
    "\n",
    "# Display the duplicate rows (if any)\n",
    "print(\"Duplicate rows:\")\n",
    "print(duplicate_rows)\n",
    "\n",
    "# Optionally, you can drop duplicates from the merged DataFrame\n",
    "cleaned_df = merged_df.drop_duplicates()\n",
    "\n",
    "# Save the cleaned DataFrame to a new CSV file\n",
    "cleaned_df.to_csv(\"BBC.csv\", index=False)\n"
   ]
  },
  {
   "cell_type": "code",
   "execution_count": 2,
   "metadata": {},
   "outputs": [],
   "source": [
    "import pandas as pd\n",
    "df = pd.read_csv('BBC.csv')"
   ]
  },
  {
   "cell_type": "code",
   "execution_count": 3,
   "metadata": {},
   "outputs": [
    {
     "data": {
      "text/plain": [
       "Index(['url', 'content', 'title', 'website_name', 'category', 'language',\n",
       "       'authors', 'published_date'],\n",
       "      dtype='object')"
      ]
     },
     "execution_count": 3,
     "metadata": {},
     "output_type": "execute_result"
    }
   ],
   "source": [
    "df.columns"
   ]
  },
  {
   "cell_type": "code",
   "execution_count": 4,
   "metadata": {},
   "outputs": [
    {
     "data": {
      "text/html": [
       "<div>\n",
       "<style scoped>\n",
       "    .dataframe tbody tr th:only-of-type {\n",
       "        vertical-align: middle;\n",
       "    }\n",
       "\n",
       "    .dataframe tbody tr th {\n",
       "        vertical-align: top;\n",
       "    }\n",
       "\n",
       "    .dataframe thead th {\n",
       "        text-align: right;\n",
       "    }\n",
       "</style>\n",
       "<table border=\"1\" class=\"dataframe\">\n",
       "  <thead>\n",
       "    <tr style=\"text-align: right;\">\n",
       "      <th></th>\n",
       "      <th>url</th>\n",
       "      <th>content</th>\n",
       "      <th>title</th>\n",
       "      <th>website_name</th>\n",
       "      <th>category</th>\n",
       "      <th>language</th>\n",
       "      <th>authors</th>\n",
       "      <th>published_date</th>\n",
       "    </tr>\n",
       "  </thead>\n",
       "  <tbody>\n",
       "    <tr>\n",
       "      <th>577</th>\n",
       "      <td>https://www.bbc.com/nepali/articles/cye565z90l2o</td>\n",
       "      <td>“हामीकहाँ प्राय बालबालिका तथा अधबैँसे बिरामीहर...</td>\n",
       "      <td>वीर अस्पतालमा आँखा पाकेर उपचार खोज्दै आउने बिर...</td>\n",
       "      <td>BBC</td>\n",
       "      <td>politics</td>\n",
       "      <td>nepali</td>\n",
       "      <td>unknown</td>\n",
       "      <td>17-08-2023</td>\n",
       "    </tr>\n",
       "    <tr>\n",
       "      <th>578</th>\n",
       "      <td>https://www.bbc.com/nepali/articles/clj50x7x2lzo</td>\n",
       "      <td>अल्बर्ट आइन्स्टाइन र रोबर्ट ओपनहाइमर दुवैले प्...</td>\n",
       "      <td>चलचित्र ओपेनहाइमरको अन्तिमतिरको एउटा दृश्यमा भ...</td>\n",
       "      <td>BBC</td>\n",
       "      <td>politics</td>\n",
       "      <td>nepali</td>\n",
       "      <td>unknown</td>\n",
       "      <td>17-08-2023</td>\n",
       "    </tr>\n",
       "    <tr>\n",
       "      <th>579</th>\n",
       "      <td>https://www.bbc.com/nepali/news-66222257</td>\n",
       "      <td>2023 बीबीसी। अन्य वेबसाइटका सामग्रीहरूका लागि ...</td>\n",
       "      <td>जुलाई २० देखि महिला फुटबलको सबैभन्दा ठूलो प्रत...</td>\n",
       "      <td>BBC</td>\n",
       "      <td>politics</td>\n",
       "      <td>nepali</td>\n",
       "      <td>unknown</td>\n",
       "      <td>17-08-2023</td>\n",
       "    </tr>\n",
       "    <tr>\n",
       "      <th>580</th>\n",
       "      <td>https://www.bbc.com/nepali/articles/c3g860z91jeo</td>\n",
       "      <td>लेखिका चित्रा बनर्जीको पुस्तक 'द लास्ट क्वीनमा...</td>\n",
       "      <td>\"तपाईँले मलाई जेल हाल्नुभयो। चारैतिर सुरक्षाकर...</td>\n",
       "      <td>BBC</td>\n",
       "      <td>politics</td>\n",
       "      <td>nepali</td>\n",
       "      <td>unknown</td>\n",
       "      <td>17-08-2023</td>\n",
       "    </tr>\n",
       "    <tr>\n",
       "      <th>581</th>\n",
       "      <td>https://www.bbc.com/nepali/resources/idt-d3cff...</td>\n",
       "      <td>विश्वभरि उष्णलहर बारम्बार र अझ कडा बनेर देखा प...</td>\n",
       "      <td>विश्वभरि उष्णलहर बारम्बार र अझ कडा बनेर देखा प...</td>\n",
       "      <td>BBC</td>\n",
       "      <td>politics</td>\n",
       "      <td>nepali</td>\n",
       "      <td>unknown</td>\n",
       "      <td>17-08-2023</td>\n",
       "    </tr>\n",
       "  </tbody>\n",
       "</table>\n",
       "</div>"
      ],
      "text/plain": [
       "                                                   url  \\\n",
       "577   https://www.bbc.com/nepali/articles/cye565z90l2o   \n",
       "578   https://www.bbc.com/nepali/articles/clj50x7x2lzo   \n",
       "579           https://www.bbc.com/nepali/news-66222257   \n",
       "580   https://www.bbc.com/nepali/articles/c3g860z91jeo   \n",
       "581  https://www.bbc.com/nepali/resources/idt-d3cff...   \n",
       "\n",
       "                                               content  \\\n",
       "577  “हामीकहाँ प्राय बालबालिका तथा अधबैँसे बिरामीहर...   \n",
       "578  अल्बर्ट आइन्स्टाइन र रोबर्ट ओपनहाइमर दुवैले प्...   \n",
       "579  2023 बीबीसी। अन्य वेबसाइटका सामग्रीहरूका लागि ...   \n",
       "580  लेखिका चित्रा बनर्जीको पुस्तक 'द लास्ट क्वीनमा...   \n",
       "581  विश्वभरि उष्णलहर बारम्बार र अझ कडा बनेर देखा प...   \n",
       "\n",
       "                                                 title website_name  category  \\\n",
       "577  वीर अस्पतालमा आँखा पाकेर उपचार खोज्दै आउने बिर...          BBC  politics   \n",
       "578  चलचित्र ओपेनहाइमरको अन्तिमतिरको एउटा दृश्यमा भ...          BBC  politics   \n",
       "579  जुलाई २० देखि महिला फुटबलको सबैभन्दा ठूलो प्रत...          BBC  politics   \n",
       "580  \"तपाईँले मलाई जेल हाल्नुभयो। चारैतिर सुरक्षाकर...          BBC  politics   \n",
       "581  विश्वभरि उष्णलहर बारम्बार र अझ कडा बनेर देखा प...          BBC  politics   \n",
       "\n",
       "    language  authors published_date  \n",
       "577   nepali  unknown     17-08-2023  \n",
       "578   nepali  unknown     17-08-2023  \n",
       "579   nepali  unknown     17-08-2023  \n",
       "580   nepali  unknown     17-08-2023  \n",
       "581   nepali  unknown     17-08-2023  "
      ]
     },
     "execution_count": 4,
     "metadata": {},
     "output_type": "execute_result"
    }
   ],
   "source": [
    "df.tail(5)"
   ]
  },
  {
   "cell_type": "code",
   "execution_count": 3,
   "metadata": {},
   "outputs": [],
   "source": [
    "# df['published_data'] = pd.to_datetime(df['published_date'])"
   ]
  },
  {
   "cell_type": "code",
   "execution_count": 1,
   "metadata": {},
   "outputs": [],
   "source": [
    "# import pandas as pd\n",
    "\n",
    "# # Sample DataFrame with a date column\n",
    "# df = pd.read_csv('/home/kushal/Downloads/BBC/news/BBC2.csv')\n",
    "\n",
    "# # Convert string to datetime\n",
    "# df['published_date'] = pd.to_datetime(df['published_date'])\n",
    "\n",
    "# # Change the display format\n",
    "# df['published_date_formatted'] = df['published_date'].dt.strftime('%d-%m-%Y')\n",
    "\n",
    "# # Drop the original published_date column if not needed\n",
    "# df.drop(columns=['published_date'], inplace=True)\n",
    "\n",
    "# # Rename the formatted column to the original name if needed\n",
    "# df.rename(columns={'published_date_formatted': 'published_date'}, inplace=True)\n",
    "\n",
    "# # Print the DataFrame\n",
    "# df.head(5)\n"
   ]
  },
  {
   "cell_type": "code",
   "execution_count": 2,
   "metadata": {},
   "outputs": [],
   "source": [
    "# df.to_csv('BBC2.csv', index=False)"
   ]
  },
  {
   "cell_type": "code",
   "execution_count": null,
   "metadata": {},
   "outputs": [],
   "source": []
  }
 ],
 "metadata": {
  "kernelspec": {
   "display_name": ".venv",
   "language": "python",
   "name": "python3"
  },
  "language_info": {
   "codemirror_mode": {
    "name": "ipython",
    "version": 3
   },
   "file_extension": ".py",
   "mimetype": "text/x-python",
   "name": "python",
   "nbconvert_exporter": "python",
   "pygments_lexer": "ipython3",
   "version": "3.10.12"
  },
  "orig_nbformat": 4
 },
 "nbformat": 4,
 "nbformat_minor": 2
}
