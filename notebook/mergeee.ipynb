{
 "cells": [
  {
   "cell_type": "code",
   "execution_count": 1,
   "metadata": {},
   "outputs": [
    {
     "name": "stdout",
     "output_type": "stream",
     "text": [
      "Duplicate rows:\n",
      "                                                  url  \\\n",
      "39   https://www.bbc.com/nepali/articles/cxrxv36k27eo   \n",
      "40   https://www.bbc.com/nepali/articles/cz7j27pw48xo   \n",
      "41   https://www.bbc.com/nepali/articles/ckrj822g2zmo   \n",
      "42   https://www.bbc.com/nepali/articles/c2x58v30p3zo   \n",
      "44   https://www.bbc.com/nepali/articles/cqevjpvg0y5o   \n",
      "..                                                ...   \n",
      "172  https://www.bbc.com/nepali/articles/c4n6n4x1nz0o   \n",
      "173  https://www.bbc.com/nepali/articles/c4n00jlpeg8o   \n",
      "177  https://www.bbc.com/nepali/articles/cjejq73ep3yo   \n",
      "179          https://www.bbc.com/nepali/news-66222257   \n",
      "195                        https://www.bbc.com/nepali   \n",
      "\n",
      "                                               content  \\\n",
      "39     ती बालिकालाई जीवितै उद्धार गरिएको दृश्य र सम...   \n",
      "40   उनलाई तीन वर्षको जेल र जरिवानाको सजाय सुनाइएपछ...   \n",
      "41   भिन्चेन्ट्सो ला पोर्टा ११ वर्षदेखी फरार थिए सा...   \n",
      "42   उनले उत्तराधिकारीलाई न्यायपालिका जिम्मा दिएर ब...   \n",
      "44   जेम्स वेब टेलिस्कोपले खिचेको 'रिङ नेब्यला' को ...   \n",
      "..                                                 ...   \n",
      "172  नाइजेरिया, बहामस, सिङ्गापुर जस्ता केही देशहरूल...   \n",
      "173  आफ्नो भागी विवाहले बुवाको मन भाँचिएको थाहा पाए...   \n",
      "177  तर सन् १९७६ मा नेपालले लागुपदार्थ नियन्त्रणसम्...   \n",
      "179  2023 बीबीसी। अन्य वेबसाइटका सामग्रीहरूका लागि ...   \n",
      "195  बीबीसी नेपाली सेवाले विश्व घटनाका साथै स्थानीय...   \n",
      "\n",
      "                                                 title website_name  category  \\\n",
      "39   सिरियामा भूकम्पले भत्किएको एउटा घरको भग्नावशेष...   BBC Nepali  politics   \n",
      "40   पाकिस्तान तहरीक-ए-इन्साफ (पीटीआई) का अध्यक्ष त...   BBC Nepali  politics   \n",
      "41   आफूले समर्थन गरेको फुटबल टोलीलाई ग्रीसमा समर्थ...   BBC Nepali  politics   \n",
      "42   प्रधानन्यायाधीश हरिकृष्ण कार्की अवकाशमा जानु च...   BBC Nepali  politics   \n",
      "44   सुदूर अन्तरिक्षमा अवस्थित एउटा ताराको 'अन्तिम ...   BBC Nepali  politics   \n",
      "..                                                 ...          ...       ...   \n",
      "172  नेपाल राष्ट्र ब्याङ्कले डिजिटल करेन्सी प्रयोगम...   BBC Nepali  politics   \n",
      "173  सत्र वर्षको उमेरमा प्रेम विवाह गरेकी देवी परिय...   BBC Nepali  politics   \n",
      "177  केही दशकअघिसम्म सिंहदरबार वैद्यखानाबाट उत्पादन...   BBC Nepali  politics   \n",
      "179  जुलाई २० देखि महिला फुटबलको सबैभन्दा ठूलो प्रत...   BBC Nepali  politics   \n",
      "195  कांग्रेसबाट पौडेल र एमालेबाट नेम्वाङ राष्ट्रपत...   BBC Nepali  politics   \n",
      "\n",
      "    language  authors published_date  \n",
      "39    Nepali  unknown     14-08-2023  \n",
      "40    Nepali  unknown     14-08-2023  \n",
      "41    Nepali  unknown     14-08-2023  \n",
      "42    Nepali  unknown     14-08-2023  \n",
      "44    Nepali  unknown     14-08-2023  \n",
      "..       ...      ...            ...  \n",
      "172   Nepali  unknown     14-08-2023  \n",
      "173   Nepali  unknown     14-08-2023  \n",
      "177   Nepali  unknown     14-08-2023  \n",
      "179   Nepali  unknown     14-08-2023  \n",
      "195   Nepali  unknown     2023-08-14  \n",
      "\n",
      "[96 rows x 8 columns]\n"
     ]
    }
   ],
   "source": [
    "import pandas as pd\n",
    "\n",
    "# Load the CSV files into DataFrames\n",
    "df1 = pd.read_csv(\"bbc.csv\")\n",
    "df2 = pd.read_csv(\"bbc2.csv\")\n",
    "\n",
    "# Merge the DataFrames (if applicable, you can specify the merging columns)\n",
    "merged_df = pd.concat([df1, df2], ignore_index=True)\n",
    "\n",
    "# Check for duplicates based on entire rows\n",
    "duplicate_rows = merged_df[merged_df.duplicated()]\n",
    "\n",
    "# Display the duplicate rows (if any)\n",
    "print(\"Duplicate rows:\")\n",
    "print(duplicate_rows)\n",
    "\n",
    "# Optionally, you can drop duplicates from the merged DataFrame\n",
    "cleaned_df = merged_df.drop_duplicates()\n",
    "\n",
    "# Save the cleaned DataFrame to a new CSV file\n",
    "cleaned_df.to_csv(\"merged_and_cleaned.csv\", index=False)\n"
   ]
  },
  {
   "cell_type": "code",
   "execution_count": 4,
   "metadata": {},
   "outputs": [],
   "source": [
    "df = pd.read_csv('BBC.csv')"
   ]
  },
  {
   "cell_type": "code",
   "execution_count": 6,
   "metadata": {},
   "outputs": [
    {
     "data": {
      "text/plain": [
       "Index(['url', 'content', 'title', 'website_name', 'category', 'language',\n",
       "       'authors', 'published_date'],\n",
       "      dtype='object')"
      ]
     },
     "execution_count": 6,
     "metadata": {},
     "output_type": "execute_result"
    }
   ],
   "source": [
    "df.columns"
   ]
  },
  {
   "cell_type": "code",
   "execution_count": null,
   "metadata": {},
   "outputs": [],
   "source": []
  }
 ],
 "metadata": {
  "kernelspec": {
   "display_name": ".venv",
   "language": "python",
   "name": "python3"
  },
  "language_info": {
   "codemirror_mode": {
    "name": "ipython",
    "version": 3
   },
   "file_extension": ".py",
   "mimetype": "text/x-python",
   "name": "python",
   "nbconvert_exporter": "python",
   "pygments_lexer": "ipython3",
   "version": "3.10.12"
  },
  "orig_nbformat": 4
 },
 "nbformat": 4,
 "nbformat_minor": 2
}
